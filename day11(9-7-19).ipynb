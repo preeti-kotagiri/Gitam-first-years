{
 "cells": [
  {
   "cell_type": "code",
   "execution_count": 2,
   "metadata": {},
   "outputs": [
    {
     "data": {
      "text/plain": [
       "46"
      ]
     },
     "execution_count": 2,
     "metadata": {},
     "output_type": "execute_result"
    }
   ],
   "source": [
    "12 + 34"
   ]
  },
  {
   "cell_type": "code",
   "execution_count": 3,
   "metadata": {},
   "outputs": [
    {
     "name": "stdout",
     "output_type": "stream",
     "text": [
      "enter x value34\n",
      "enter y value56\n",
      "sum of x and y is: 90\n",
      "-22\n"
     ]
    }
   ],
   "source": [
    "x = int(input(\"enter x value\")) #varibales\n",
    "y = int(input(\"enter y value\"))\n",
    "print(\"sum of x and y is:\",x + y)\n",
    "print(x - y)"
   ]
  },
  {
   "cell_type": "markdown",
   "metadata": {},
   "source": [
    "### accept three values from the user->name,percentage,age\n",
    "ouput: my name is ... and my percentage is ... and age is ..."
   ]
  },
  {
   "cell_type": "code",
   "execution_count": 4,
   "metadata": {},
   "outputs": [
    {
     "name": "stdout",
     "output_type": "stream",
     "text": [
      "enter ur namepreeti\n",
      "enter ur percentage99\n",
      "enter ur age25\n",
      "my name is: preeti and my percentage is: 99 and age is: 25\n"
     ]
    }
   ],
   "source": [
    "name = input(\"enter ur name\")\n",
    "perc = int(input(\"enter ur percentage\"))\n",
    "age = int(input(\"enter ur age\"))\n",
    "print(\"my name is:\",name,\"and my percentage is:\",perc,\"and age is:\",age)"
   ]
  },
  {
   "cell_type": "markdown",
   "metadata": {},
   "source": [
    "## conditional control statement: if,else,elif"
   ]
  },
  {
   "cell_type": "code",
   "execution_count": 7,
   "metadata": {},
   "outputs": [
    {
     "name": "stdout",
     "output_type": "stream",
     "text": [
      "enter x value23\n",
      "the given number is odd\n"
     ]
    }
   ],
   "source": [
    "x = int(input(\"enter x value\"))\n",
    "if (x % 2 == 0):\n",
    "    print(\"the given number is even\")\n",
    "else:\n",
    "    print(\"the given number is odd\")\n",
    "    "
   ]
  },
  {
   "cell_type": "markdown",
   "metadata": {},
   "source": [
    "### accept age of a person from runtime \n",
    "### if age is b/w 18-85 -->\"eligible\"\n",
    "### not 18-85 -->\"not eligible\""
   ]
  },
  {
   "cell_type": "code",
   "execution_count": 9,
   "metadata": {},
   "outputs": [
    {
     "name": "stdout",
     "output_type": "stream",
     "text": [
      "enter candidate age10\n",
      "candidate is not eligible\n"
     ]
    }
   ],
   "source": [
    "age = int(input(\"enter candidate age\"))\n",
    "if (age > 18 and age < 85):\n",
    "    print(\"candidate is eligible\")\n",
    "else:\n",
    "    print(\"candidate is not eligible\")"
   ]
  },
  {
   "cell_type": "code",
   "execution_count": 12,
   "metadata": {},
   "outputs": [
    {
     "name": "stdout",
     "output_type": "stream",
     "text": [
      "enter a value0\n",
      "zero\n"
     ]
    }
   ],
   "source": [
    "#positive,negative and o\n",
    "n = int(input(\"enter a value\"))\n",
    "if n > 0:\n",
    "    print(\"positive\")\n",
    "elif n < 0:\n",
    "    print(\"negative\")\n",
    "elif n == 0:\n",
    "    print(\"zero\")"
   ]
  },
  {
   "cell_type": "markdown",
   "metadata": {},
   "source": [
    "### accept three values from the user and display the largest value\n",
    "#### sample input:34,56,23 ouput:56"
   ]
  },
  {
   "cell_type": "code",
   "execution_count": 13,
   "metadata": {},
   "outputs": [
    {
     "name": "stdout",
     "output_type": "stream",
     "text": [
      "enter x value34\n",
      "enter y value45\n",
      "enter z value56\n",
      "z is largest\n"
     ]
    }
   ],
   "source": [
    "x = int(input(\"enter x value\"))\n",
    "y = int(input(\"enter y value\"))\n",
    "z = int(input(\"enter z value\"))\n",
    "if (x > y and x > z):\n",
    "    print(\"x is largest\")\n",
    "elif y > z:\n",
    "    print(\"y is largest\")\n",
    "else:\n",
    "    print(\"z is largest\")   \n",
    "    "
   ]
  },
  {
   "cell_type": "markdown",
   "metadata": {},
   "source": [
    "### quadratic equation : ax^2+bx+c=0\n",
    "### accept a,b,c values\n",
    "### delta(b*2-4*a*c)==0 -->equal roots\n",
    "###  delta < 0 -->we cannot findout roots (complex root)\n",
    "###  delta > 0 -->two roots\n",
    "###  formula : (-b+sqrt(b*2-4*a*c))//(2*a),(-b-sqrt(b*2-4*a*c))//(2*a)"
   ]
  },
  {
   "cell_type": "markdown",
   "metadata": {},
   "source": [
    "### loops : while,for"
   ]
  },
  {
   "cell_type": "code",
   "execution_count": 16,
   "metadata": {},
   "outputs": [
    {
     "name": "stdout",
     "output_type": "stream",
     "text": [
      "enter end value5\n",
      "1\n",
      "2\n",
      "3\n",
      "4\n",
      "5\n"
     ]
    }
   ],
   "source": [
    "#printing 1-n values \n",
    "i = 1 #start\n",
    "n = int(input(\"enter end value\"))#end\n",
    "while i <= n:\n",
    "    print(i)\n",
    "    i += 1 #updation"
   ]
  },
  {
   "cell_type": "markdown",
   "metadata": {},
   "source": [
    "### print odd numbers between the range 1-n(end value)"
   ]
  },
  {
   "cell_type": "code",
   "execution_count": 17,
   "metadata": {},
   "outputs": [
    {
     "name": "stdout",
     "output_type": "stream",
     "text": [
      "enter end value5\n",
      "1\n",
      "3\n",
      "5\n"
     ]
    }
   ],
   "source": [
    "i = 1 #start\n",
    "n = int(input(\"enter end value\"))#end\n",
    "while i <= n:\n",
    "    if i % 2 != 0:\n",
    "        print(i)\n",
    "    i += 1 #updation"
   ]
  },
  {
   "cell_type": "markdown",
   "metadata": {},
   "source": [
    "### print sum of n natural numbers\n",
    "### n=5 -->1+2+3+4+5=15"
   ]
  },
  {
   "cell_type": "code",
   "execution_count": 18,
   "metadata": {},
   "outputs": [
    {
     "name": "stdout",
     "output_type": "stream",
     "text": [
      "enter a number5\n",
      "15\n"
     ]
    }
   ],
   "source": [
    "start = 1\n",
    "end = int(input(\"enter a number\"))\n",
    "sum = 0\n",
    "while start <= end:\n",
    "    sum = sum + start\n",
    "    start += 1\n",
    "\n",
    "print(sum)\n",
    "     "
   ]
  },
  {
   "cell_type": "markdown",
   "metadata": {},
   "source": [
    "### to check whether the given number is palindrome or not\n",
    "### input : 121  output:\"palindrome\"\n",
    "### input: 123   output:\"not palindrome\""
   ]
  },
  {
   "cell_type": "code",
   "execution_count": null,
   "metadata": {},
   "outputs": [],
   "source": []
  }
 ],
 "metadata": {
  "kernelspec": {
   "display_name": "Python 3",
   "language": "python",
   "name": "python3"
  },
  "language_info": {
   "codemirror_mode": {
    "name": "ipython",
    "version": 3
   },
   "file_extension": ".py",
   "mimetype": "text/x-python",
   "name": "python",
   "nbconvert_exporter": "python",
   "pygments_lexer": "ipython3",
   "version": "3.7.3"
  }
 },
 "nbformat": 4,
 "nbformat_minor": 2
}
