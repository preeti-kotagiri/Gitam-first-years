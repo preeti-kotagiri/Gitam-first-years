{
 "cells": [
  {
   "cell_type": "markdown",
   "metadata": {},
   "source": [
    "### string built-in methods:\n",
    "### 1. capitalize()-->\n",
    "### 2. center(width,fillchar)\n",
    "### 3. count(sub,start,end)\n",
    "### 4. index()\n",
    "### 5. lower()\n",
    "### 6. upper()\n",
    "### 7. isalpha()\n",
    "### 8. isdigit()\n",
    "### 9. isalnum()\n",
    "### 10. replace(old,new,count)\n",
    "### 11. split()"
   ]
  },
  {
   "cell_type": "code",
   "execution_count": 11,
   "metadata": {},
   "outputs": [
    {
     "name": "stdout",
     "output_type": "stream",
     "text": [
      "Abcabc123abc\n",
      "$$$$abcABC123abc$$$$\n",
      "2\n",
      "3\n"
     ]
    }
   ],
   "source": [
    "str1 = \"abcABC123abc\"\n",
    "print(str1.capitalize())\n",
    "print(str1.center(20,'$'))\n",
    "print(str1.count('abc'))\n",
    "print(str1.index('ABC'))"
   ]
  },
  {
   "cell_type": "code",
   "execution_count": 12,
   "metadata": {},
   "outputs": [
    {
     "name": "stdout",
     "output_type": "stream",
     "text": [
      "abcabc123abc\n",
      "ABCABC123ABC\n",
      "ABCabc123ABC\n"
     ]
    }
   ],
   "source": [
    "print(str1.lower())\n",
    "print(str1.upper())\n",
    "print(str1.swapcase())"
   ]
  },
  {
   "cell_type": "code",
   "execution_count": 21,
   "metadata": {},
   "outputs": [
    {
     "name": "stdout",
     "output_type": "stream",
     "text": [
      "False\n",
      "False\n",
      "False\n",
      "True\n",
      "True\n",
      "True\n",
      "False\n"
     ]
    }
   ],
   "source": [
    "str1 = \"abcABC123\"\n",
    "str2 = \"123\"\n",
    "str3 = \"abc@\"\n",
    "print(str1.isalpha())#False\n",
    "print(str3.isalpha())#True\n",
    "print(str1.isdigit())#False\n",
    "print(str2.isdigit())#True\n",
    "print(str1.isalnum())#True\n",
    "print(str2.isalnum())#True\n",
    "print(str3.isalnum())#True"
   ]
  },
  {
   "cell_type": "code",
   "execution_count": 23,
   "metadata": {},
   "outputs": [
    {
     "data": {
      "text/plain": [
       "'@bc@bcabc'"
      ]
     },
     "execution_count": 23,
     "metadata": {},
     "output_type": "execute_result"
    }
   ],
   "source": [
    "str1 = \"abcabcabc\"\n",
    "str1.replace('a','@',2)"
   ]
  },
  {
   "cell_type": "code",
   "execution_count": 26,
   "metadata": {},
   "outputs": [
    {
     "data": {
      "text/plain": [
       "['abcde', 'abc', 'abc']"
      ]
     },
     "execution_count": 26,
     "metadata": {},
     "output_type": "execute_result"
    }
   ],
   "source": [
    "str1 = \"abcde@abc@abc\"\n",
    "str1.split('@')"
   ]
  },
  {
   "cell_type": "code",
   "execution_count": 27,
   "metadata": {},
   "outputs": [
    {
     "data": {
      "text/plain": [
       "9"
      ]
     },
     "execution_count": 27,
     "metadata": {},
     "output_type": "execute_result"
    }
   ],
   "source": [
    "str1 = \"abcabcabc\"\n",
    "len(str1)"
   ]
  },
  {
   "cell_type": "markdown",
   "metadata": {},
   "source": [
    "## Findout length of a string without using len()\n",
    "### input : \"abcABC123\"\n",
    "### output : 9"
   ]
  },
  {
   "cell_type": "code",
   "execution_count": 28,
   "metadata": {},
   "outputs": [
    {
     "name": "stdout",
     "output_type": "stream",
     "text": [
      "9\n",
      "3\n"
     ]
    }
   ],
   "source": [
    "def length(str1):\n",
    "    count = 0\n",
    "    for i in str1:\n",
    "        count += 1\n",
    "    return count\n",
    "print(length(\"abcABC123\"))\n",
    "print(length(\"xyz\"))\n"
   ]
  },
  {
   "cell_type": "markdown",
   "metadata": {},
   "source": [
    "### function to findout sum of all the digits in a string\n",
    "### input : \"abc1234ABC\"\n",
    "### output : 1+2+3+4=10"
   ]
  },
  {
   "cell_type": "code",
   "execution_count": 30,
   "metadata": {},
   "outputs": [
    {
     "name": "stdout",
     "output_type": "stream",
     "text": [
      "6\n",
      "21\n"
     ]
    }
   ],
   "source": [
    "def sum_of_digits(str1):\n",
    "    sum = 0 #integer\n",
    "    for i in str1:\n",
    "        if i.isdigit():#i-->string\n",
    "            sum = sum + int(i) \n",
    "    return sum\n",
    "print(sum_of_digits(\"abc123\"))\n",
    "print(sum_of_digits(\"123456\"))\n",
    "        \n",
    "    "
   ]
  },
  {
   "cell_type": "code",
   "execution_count": 33,
   "metadata": {},
   "outputs": [
    {
     "name": "stdout",
     "output_type": "stream",
     "text": [
      "<class 'list'>\n",
      "[12, 23, 45.67, 'abc']\n"
     ]
    }
   ],
   "source": [
    "#list\n",
    "list1 = [12,23,45.67,'abc']\n",
    "print(type(list1))\n",
    "print(list1)"
   ]
  },
  {
   "cell_type": "code",
   "execution_count": null,
   "metadata": {},
   "outputs": [],
   "source": [
    "#slicing\n"
   ]
  }
 ],
 "metadata": {
  "kernelspec": {
   "display_name": "Python 3",
   "language": "python",
   "name": "python3"
  },
  "language_info": {
   "codemirror_mode": {
    "name": "ipython",
    "version": 3
   },
   "file_extension": ".py",
   "mimetype": "text/x-python",
   "name": "python",
   "nbconvert_exporter": "python",
   "pygments_lexer": "ipython3",
   "version": "3.7.3"
  }
 },
 "nbformat": 4,
 "nbformat_minor": 2
}
